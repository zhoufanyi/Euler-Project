{
 "cells": [
  {
   "cell_type": "code",
   "execution_count": null,
   "metadata": {
    "collapsed": false
   },
   "outputs": [],
   "source": [
    "def fib(n):\n",
    "    if n==1:return 1\n",
    "    if n==2:return 2\n",
    "    else: return fib(n-1)+fib(n-2)\n",
    "    \n",
    "sum_=0\n",
    "n=1\n",
    "while fib(n)<4000000:\n",
    "    if fib(n)%2==0:\n",
    "        sum_ +=fib(n)\n",
    "    n +=1\n",
    "print sum_\n",
    "   "
   ]
  },
  {
   "cell_type": "code",
   "execution_count": null,
   "metadata": {
    "collapsed": false
   },
   "outputs": [],
   "source": [
    "Fibo=1\n",
    "nextFibo=2\n",
    "Fibs=[]\n",
    "\n",
    "while Fibo<100:\n",
    "    Fibs.append(Fibo)\n",
    "    Fibo, nextFibo=nextFibo, Fibo+nextFibo\n",
    "print Fibs\n"
   ]
  },
  {
   "cell_type": "code",
   "execution_count": null,
   "metadata": {
    "collapsed": false
   },
   "outputs": [],
   "source": [
    "def fib(n):\n",
    "    if n==1:return 1\n",
    "    if n==2:return 2\n",
    "    else: return fib(n-1)+fib(n-2)\n",
    "\n",
    "def Fibgenerator(n):\n",
    "    L=[]\n",
    "    x=1\n",
    "    while x<n:\n",
    "        a=fib(x)\n",
    "        L.append(a)\n",
    "        x+=1\n",
    "    print L\n",
    "        \n",
    "    \n",
    "Fibgenerator(100)"
   ]
  },
  {
   "cell_type": "code",
   "execution_count": null,
   "metadata": {
    "collapsed": true
   },
   "outputs": [],
   "source": []
  },
  {
   "cell_type": "code",
   "execution_count": null,
   "metadata": {
    "collapsed": true
   },
   "outputs": [],
   "source": []
  }
 ],
 "metadata": {
  "anaconda-cloud": {},
  "kernelspec": {
   "display_name": "Python [Root]",
   "language": "python",
   "name": "Python [Root]"
  },
  "language_info": {
   "codemirror_mode": {
    "name": "ipython",
    "version": 2
   },
   "file_extension": ".py",
   "mimetype": "text/x-python",
   "name": "python",
   "nbconvert_exporter": "python",
   "pygments_lexer": "ipython2",
   "version": "2.7.12"
  }
 },
 "nbformat": 4,
 "nbformat_minor": 0
}
