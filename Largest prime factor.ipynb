{
 "cells": [
  {
   "cell_type": "code",
   "execution_count": 2,
   "metadata": {
    "collapsed": false
   },
   "outputs": [
    {
     "name": "stdout",
     "output_type": "stream",
     "text": [
      "11\n"
     ]
    }
   ],
   "source": [
    "import math\n",
    "def isPrime(n):\n",
    "    if n==1: \n",
    "        print '1 is neither prime number nor composite number' \n",
    "        return None\n",
    "    if n==2: \n",
    "        return True\n",
    "    if n%2==0: \n",
    "        return False\n",
    "    i=3\n",
    "    while i*i<n:    #important\n",
    "        if n%i==0: \n",
    "            return False\n",
    "        i+=2\n",
    "    return True\n",
    "\n",
    "\n",
    "def largestprimenumbersearch(n):\n",
    "    max_=0\n",
    "    i=2\n",
    "    while i<n:\n",
    "        if isPrime(i)==True and n%i==0:\n",
    "            max_=i\n",
    "        i+=1\n",
    "    print max_\n",
    "        \n",
    "    \n",
    "        \n",
    "       \n",
    "largestprimenumbersearch(99)           #the program is not efficoent."
   ]
  },
  {
   "cell_type": "code",
   "execution_count": 6,
   "metadata": {
    "collapsed": false
   },
   "outputs": [
    {
     "data": {
      "text/plain": [
       "6857"
      ]
     },
     "execution_count": 6,
     "metadata": {},
     "output_type": "execute_result"
    }
   ],
   "source": [
    "def largestprimenumber(n):\n",
    "    i=2\n",
    "    if n==1:\n",
    "        print 'in valid input'\n",
    "        return None\n",
    "    while n!=1:      #短除法的原理，先将数字除以2,直到把该数字2因子除尽，然后再将3因子除尽，此时该数字不在含有2,3因子，那么2,3，以及\n",
    "        if n%i==0:\n",
    "            n=n/i\n",
    "            maxPrime=i\n",
    "        else:\n",
    "            i+=1 \n",
    "    return maxPrime\n",
    "\n",
    "largestprimenumber(600851475143)\n",
    "        \n",
    " "
   ]
  },
  {
   "cell_type": "code",
   "execution_count": null,
   "metadata": {
    "collapsed": true
   },
   "outputs": [],
   "source": [
    "def largestPrimeFactor(n):\n",
    "    if n % 2 == 0\n",
    "      return largestPrimeFactor(n/2)\n",
    "    largestPrime = 1\n",
    "    nextFactor = 3\n",
    "    while nextFactor * nextFactor <= n:\n",
    "        if n % nextFactor == 0:\n",
    "            largetstPrime = nextFactor\n",
    "            n / = nextFactor\n",
    "        else:\n",
    "            nextFactor += 2 # 所有大于2的质数都是奇数，这里尝试每个奇数可以保证质数不被漏掉，器这个自加也是一个最简单的条件\n",
    "    return n\n",
    "\n",
    "print largestPrimeFactor\n",
    "            "
   ]
  }
 ],
 "metadata": {
  "anaconda-cloud": {},
  "kernelspec": {
   "display_name": "Python [Root]",
   "language": "python",
   "name": "Python [Root]"
  },
  "language_info": {
   "codemirror_mode": {
    "name": "ipython",
    "version": 2
   },
   "file_extension": ".py",
   "mimetype": "text/x-python",
   "name": "python",
   "nbconvert_exporter": "python",
   "pygments_lexer": "ipython2",
   "version": "2.7.12"
  }
 },
 "nbformat": 4,
 "nbformat_minor": 0
}
