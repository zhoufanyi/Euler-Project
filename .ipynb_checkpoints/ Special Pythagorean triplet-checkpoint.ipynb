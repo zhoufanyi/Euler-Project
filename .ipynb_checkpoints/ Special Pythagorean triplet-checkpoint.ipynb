{
 "cells": [
  {
   "cell_type": "markdown",
   "metadata": {},
   "source": [
    "## Special Pythagorean triplet"
   ]
  },
  {
   "cell_type": "code",
   "execution_count": 3,
   "metadata": {
    "collapsed": false
   },
   "outputs": [
    {
     "name": "stdout",
     "output_type": "stream",
     "text": [
      "200 375 425 31875000\n"
     ]
    }
   ],
   "source": [
    "for i in range (1, 334):  # 由于a b c不相等，就有大小之分 可以限制在333以内 334到 501 之间\n",
    "    a = i\n",
    "    for j in range(334, 501):\n",
    "        b = j\n",
    "        c = 1000 - i - j\n",
    "        if c**2 == a**2 + b**2:\n",
    "            print a , b ,c,a*b*c\n",
    "        "
   ]
  },
  {
   "cell_type": "code",
   "execution_count": null,
   "metadata": {
    "collapsed": true
   },
   "outputs": [],
   "source": []
  }
 ],
 "metadata": {
  "kernelspec": {
   "display_name": "Python [Root]",
   "language": "python",
   "name": "Python [Root]"
  },
  "language_info": {
   "codemirror_mode": {
    "name": "ipython",
    "version": 2
   },
   "file_extension": ".py",
   "mimetype": "text/x-python",
   "name": "python",
   "nbconvert_exporter": "python",
   "pygments_lexer": "ipython2",
   "version": "2.7.12"
  }
 },
 "nbformat": 4,
 "nbformat_minor": 0
}
