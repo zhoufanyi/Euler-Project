{
 "cells": [
  {
   "cell_type": "code",
   "execution_count": 23,
   "metadata": {
    "collapsed": false
   },
   "outputs": [
    {
     "name": "stdout",
     "output_type": "stream",
     "text": [
      "906609\n"
     ]
    }
   ],
   "source": [
    "pal=[]\n",
    "for a in range(100,1000):\n",
    "    for b in range(a,1000):\n",
    "        s = str(a*b)\n",
    "        if s==s[::-1]:\n",
    "            pal.append(int(s))\n",
    "            \n",
    "\n",
    "maxPal=pal[0]\n",
    "for n in range(1,len(pal)):\n",
    "    if pal[n]> maxPal:\n",
    "        maxPal=pal[n]\n",
    "        \n",
    "print maxPal\n",
    "        \n",
    "\n",
    "#s = string(i*j)\n",
    "#if s=s[::-1]:\n",
    "#    pal.append(int(s))\n",
    "#for n in range()\n",
    "    \n",
    "\n"
   ]
  },
  {
   "cell_type": "code",
   "execution_count": 19,
   "metadata": {
    "collapsed": false
   },
   "outputs": [
    {
     "name": "stdout",
     "output_type": "stream",
     "text": [
      "bcdefg abcde bcde fd gfedcba\n"
     ]
    }
   ],
   "source": [
    "s = 'abcdefg'\n",
    "print s[1:], s[:5], s[1:5], s[5:1:-2], s[::-1]"
   ]
  },
  {
   "cell_type": "code",
   "execution_count": 20,
   "metadata": {
    "collapsed": false
   },
   "outputs": [
    {
     "ename": "SyntaxError",
     "evalue": "invalid syntax (<ipython-input-20-3f1bdbf80d39>, line 1)",
     "output_type": "error",
     "traceback": [
      "\u001b[1;36m  File \u001b[1;32m\"<ipython-input-20-3f1bdbf80d39>\"\u001b[1;36m, line \u001b[1;32m1\u001b[0m\n\u001b[1;33m    for ()\u001b[0m\n\u001b[1;37m          ^\u001b[0m\n\u001b[1;31mSyntaxError\u001b[0m\u001b[1;31m:\u001b[0m invalid syntax\n"
     ]
    }
   ],
   "source": []
  },
  {
   "cell_type": "code",
   "execution_count": null,
   "metadata": {
    "collapsed": true
   },
   "outputs": [],
   "source": []
  }
 ],
 "metadata": {
  "kernelspec": {
   "display_name": "Python [Root]",
   "language": "python",
   "name": "Python [Root]"
  },
  "language_info": {
   "codemirror_mode": {
    "name": "ipython",
    "version": 2
   },
   "file_extension": ".py",
   "mimetype": "text/x-python",
   "name": "python",
   "nbconvert_exporter": "python",
   "pygments_lexer": "ipython2",
   "version": "2.7.12"
  }
 },
 "nbformat": 4,
 "nbformat_minor": 0
}
