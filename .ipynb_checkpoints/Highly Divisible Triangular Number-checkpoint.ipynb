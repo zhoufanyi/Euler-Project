{
 "cells": [
  {
   "cell_type": "markdown",
   "metadata": {},
   "source": [
    "## Highly Divisible Triangular Number"
   ]
  },
  {
   "cell_type": "code",
   "execution_count": 4,
   "metadata": {
    "collapsed": false
   },
   "outputs": [
    {
     "name": "stdout",
     "output_type": "stream",
     "text": [
      "76576500\n"
     ]
    }
   ],
   "source": [
    "import math\n",
    "\n",
    "def divisor(n):\n",
    "    divisor_list = [];\n",
    "    for i in range(1,int(math.sqrt(n)+1)):\n",
    "        if n%i==0:\n",
    "            divisor_list.append(i);\n",
    "            divisor_list.append(n/i);\n",
    "    return len(divisor_list);\n",
    "\n",
    "# def isTriangleNumber(n):\n",
    "#     a = int(math.sqrt(2*n));\n",
    "#     return a*(a+1)/2 == n;\n",
    "\n",
    "n=1\n",
    "while True:   #不预先给出跳出循环的条件，当满足条件时，用break跳出\n",
    "    n +=1;\n",
    "    if divisor(n*(n+1)/2) > 500:\n",
    "        break;\n",
    "\n",
    "print n*(n+1)/2\n",
    "\n"
   ]
  },
  {
   "cell_type": "code",
   "execution_count": null,
   "metadata": {
    "collapsed": true
   },
   "outputs": [],
   "source": []
  }
 ],
 "metadata": {
  "anaconda-cloud": {},
  "kernelspec": {
   "display_name": "Python [Root]",
   "language": "python",
   "name": "Python [Root]"
  },
  "language_info": {
   "codemirror_mode": {
    "name": "ipython",
    "version": 2
   },
   "file_extension": ".py",
   "mimetype": "text/x-python",
   "name": "python",
   "nbconvert_exporter": "python",
   "pygments_lexer": "ipython2",
   "version": "2.7.12"
  }
 },
 "nbformat": 4,
 "nbformat_minor": 0
}
