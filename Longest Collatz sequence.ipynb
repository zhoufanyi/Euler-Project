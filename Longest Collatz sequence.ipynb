{
 "cells": [
  {
   "cell_type": "markdown",
   "metadata": {},
   "source": [
    "## Longest Collatz sequence"
   ]
  },
  {
   "cell_type": "code",
   "execution_count": 1,
   "metadata": {
    "collapsed": false
   },
   "outputs": [],
   "source": [
    "# def collartaSequenceCounter(n):\n",
    "#     counter = 1;\n",
    "#     if n%2==0:\n",
    "#         k=n/2;\n",
    "#     else:\n",
    "#         k = 3*n+1;\n",
    "#     while k>1:\n",
    "#         if k%2==0:\n",
    "#             k = n/2;\n",
    "#             counter+=1;\n",
    "#         else:\n",
    "#             k=3*k+1;\n",
    "#             counter+=1;\n",
    "#     return counter\n",
    "\n",
    "# _max=0\n",
    "# for i in range(1,999999):\n",
    "#     if collartaSequenceCounter(i)>_max:\n",
    "#         _max = collartaSequenceCounter(i)\n",
    "# print _max\n",
    "# too slow"
   ]
  },
  {
   "cell_type": "code",
   "execution_count": 7,
   "metadata": {
    "collapsed": false
   },
   "outputs": [
    {
     "name": "stdout",
     "output_type": "stream",
     "text": [
      "found 837799 at length 525 in 14.5220000744 seconds\n"
     ]
    }
   ],
   "source": [
    "import time\n",
    "start = time.time()\n",
    "\n",
    "def collatz(n, count = 1):\n",
    "    while n > 1:\n",
    "        count+=1\n",
    "        if n%2 ==0:\n",
    "            n=n/2;\n",
    "        else:\n",
    "            n=3*n+1\n",
    "    return count\n",
    "\n",
    "max=[0,0]\n",
    "for i in range(1000000):\n",
    "    c = collatz(i)\n",
    "    if c >max[0]:\n",
    "        max[0]=c\n",
    "        max[1]=i\n",
    "elapsed = (time.time()-start)\n",
    "print \"found %s at length %s in %s seconds\" % (max[1],max[0],elapsed)"
   ]
  },
  {
   "cell_type": "code",
   "execution_count": 6,
   "metadata": {
    "collapsed": false
   },
   "outputs": [
    {
     "name": "stdout",
     "output_type": "stream",
     "text": [
      "found 837799 at length 525 in 2.09200000763 seconds\n"
     ]
    }
   ],
   "source": [
    "import time\n",
    "\n",
    "start=time.time()\n",
    "\n",
    "limit = 1000000\n",
    "collatz_length = [0]*limit #第i个数的collatz序列长度记录在指标为i的元素中\n",
    "collatz_length[1] = 1 #规定1开始的序列长度是1，否则会陷入1 4 2 1的死循环\n",
    "max_length = [1,1]\n",
    "\n",
    "for i in range(1,1000000):\n",
    "    n,s = i,0\n",
    "    TO_ADD=[]    #collatz_length not yet known 这个list中的指标为j的数字经过有限次运算可以到达一个已经被记录过的数字，路径是从这个数字开始一直到这个数组的最后一个元素，这一部分的步长就是s-j\n",
    "    while n>limit-1 or collatz_length[n]<1:  #如果n超过上限或者，或者这个数的长度还没有被记录过\n",
    "        TO_ADD.append(n)                    #跳出的条件时一个小于10000000的数的collatz序列的长度已经被记录过\n",
    "        if n%2==0:\n",
    "            n = n/2\n",
    "        else: \n",
    "            n = 3*n+1\n",
    "        s+=1 #对于i来说尚未记录过的项数的个数，也是TO_ADD元素的个数\n",
    "    #collatzz_length now kown from previous calculations\n",
    "    p = collatz_length[n] #序列运算到摸个记录了过的数字，把这个数字的长度记为p \n",
    "    for j in range(s):\n",
    "        m = TO_ADD[j] #对于每个还未出现过的数的序列长度可以通过下面的循环一次计算出来\n",
    "        if m < limit:\n",
    "            new_length = p+s-j # 这个尚未出现过的数字m的collatz序列长度是p+s-j\n",
    "            collatz_length[m]=new_length\n",
    "            if new_length>max_length[1]:\n",
    "                max_length = [i,new_length]\n",
    "elapsed = (time.time()-start)\n",
    "print \"found %s at length %s in %s seconds\" % (max_length[0],max_length[1],elapsed)"
   ]
  },
  {
   "cell_type": "code",
   "execution_count": null,
   "metadata": {
    "collapsed": true
   },
   "outputs": [],
   "source": []
  }
 ],
 "metadata": {
  "anaconda-cloud": {},
  "kernelspec": {
   "display_name": "Python [Root]",
   "language": "python",
   "name": "Python [Root]"
  },
  "language_info": {
   "codemirror_mode": {
    "name": "ipython",
    "version": 2
   },
   "file_extension": ".py",
   "mimetype": "text/x-python",
   "name": "python",
   "nbconvert_exporter": "python",
   "pygments_lexer": "ipython2",
   "version": "2.7.12"
  }
 },
 "nbformat": 4,
 "nbformat_minor": 0
}
