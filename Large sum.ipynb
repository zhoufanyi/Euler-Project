{
 "cells": [
  {
   "cell_type": "markdown",
   "metadata": {},
   "source": [
    "## Large sum"
   ]
  },
  {
   "cell_type": "code",
   "execution_count": 27,
   "metadata": {
    "collapsed": false,
    "scrolled": true
   },
   "outputs": [
    {
     "name": "stdout",
     "output_type": "stream",
     "text": [
      "[u'Sheet1']\n",
      "5537376230390876637302048746832985971773659831892672\n",
      "5 5 3 7 3 7 6 2 3 0\n"
     ]
    }
   ],
   "source": [
    "import xlrd\n",
    "data = xlrd.open_workbook(r'C:\\Users\\Zhou Fanyi\\Documents\\Euler Project\\Large sum data.xlsx') #打开excel\n",
    "print data.sheet_names()\n",
    "dataExcel = data.sheet_by_name('Sheet1') #获取excel中sheet1的内容，并且在python中将其赋给dataExcel\n",
    "dataLists = dataExcel.col_values(0)\n",
    "dataListsInt= [int(i) for i in dataLists] \n",
    "sum(dataListsInt)\n",
    "sumString = str(sum(dataListsInt))\n",
    "print sumString\n",
    "for i in range(0,10):\n",
    "    print sumString[i],\n"
   ]
  },
  {
   "cell_type": "markdown",
   "metadata": {},
   "source": [
    "学会使用xlrd模块"
   ]
  }
 ],
 "metadata": {
  "kernelspec": {
   "display_name": "Python [Root]",
   "language": "python",
   "name": "Python [Root]"
  },
  "language_info": {
   "codemirror_mode": {
    "name": "ipython",
    "version": 2
   },
   "file_extension": ".py",
   "mimetype": "text/x-python",
   "name": "python",
   "nbconvert_exporter": "python",
   "pygments_lexer": "ipython2",
   "version": "2.7.12"
  }
 },
 "nbformat": 4,
 "nbformat_minor": 0
}
